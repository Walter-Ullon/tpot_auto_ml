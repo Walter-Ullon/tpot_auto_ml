{
 "cells": [
  {
   "cell_type": "code",
   "execution_count": 1,
   "id": "2fe04d49-2691-4ee1-8a5f-3b5085e29d18",
   "metadata": {},
   "outputs": [],
   "source": [
    "# data wrangling:\n",
    "import pandas as pd\n",
    "import numpy as np\n",
    "\n",
    "# ML stuff\n",
    "from sklearn.model_selection import train_test_split, cross_val_score, GridSearchCV, RandomizedSearchCV\n",
    "from sklearn.linear_model import LinearRegression, LogisticRegression\n",
    "from sklearn.tree import DecisionTreeClassifier\n",
    "from sklearn.metrics import mean_squared_error, accuracy_score\n",
    "from xgboost import XGBRegressor, XGBClassifier, plot_importance\n",
    "from tpot import TPOTClassifier\n",
    "\n",
    "# plotting and images:\n",
    "import plotly.express as px\n",
    "import plotly.graph_objects as go\n",
    "from plotly.subplots import make_subplots\n",
    "from IPython.display import Image\n",
    "\n",
    "# Import warnings\n",
    "import warnings\n",
    "warnings.filterwarnings('ignore')"
   ]
  },
  {
   "cell_type": "markdown",
   "id": "0d7d8c2b-c00b-442e-8627-75dbc8df132d",
   "metadata": {},
   "source": [
    "---\n",
    "### Import data:"
   ]
  },
  {
   "cell_type": "code",
   "execution_count": 2,
   "id": "eff0cf39-196a-4ee8-9e53-7a381d70adc4",
   "metadata": {},
   "outputs": [
    {
     "data": {
      "text/html": [
       "<div>\n",
       "<style scoped>\n",
       "    .dataframe tbody tr th:only-of-type {\n",
       "        vertical-align: middle;\n",
       "    }\n",
       "\n",
       "    .dataframe tbody tr th {\n",
       "        vertical-align: top;\n",
       "    }\n",
       "\n",
       "    .dataframe thead th {\n",
       "        text-align: right;\n",
       "    }\n",
       "</style>\n",
       "<table border=\"1\" class=\"dataframe\">\n",
       "  <thead>\n",
       "    <tr style=\"text-align: right;\">\n",
       "      <th></th>\n",
       "      <th>age</th>\n",
       "      <th>sex</th>\n",
       "      <th>cp</th>\n",
       "      <th>trestbps</th>\n",
       "      <th>chol</th>\n",
       "      <th>fbs</th>\n",
       "      <th>restecg</th>\n",
       "      <th>thalach</th>\n",
       "      <th>exang</th>\n",
       "      <th>oldpeak</th>\n",
       "      <th>slope</th>\n",
       "      <th>ca</th>\n",
       "      <th>thal</th>\n",
       "      <th>target</th>\n",
       "    </tr>\n",
       "  </thead>\n",
       "  <tbody>\n",
       "    <tr>\n",
       "      <th>0</th>\n",
       "      <td>63</td>\n",
       "      <td>1</td>\n",
       "      <td>3</td>\n",
       "      <td>145</td>\n",
       "      <td>233</td>\n",
       "      <td>1</td>\n",
       "      <td>0</td>\n",
       "      <td>150</td>\n",
       "      <td>0</td>\n",
       "      <td>2.3</td>\n",
       "      <td>0</td>\n",
       "      <td>0</td>\n",
       "      <td>1</td>\n",
       "      <td>1</td>\n",
       "    </tr>\n",
       "    <tr>\n",
       "      <th>1</th>\n",
       "      <td>37</td>\n",
       "      <td>1</td>\n",
       "      <td>2</td>\n",
       "      <td>130</td>\n",
       "      <td>250</td>\n",
       "      <td>0</td>\n",
       "      <td>1</td>\n",
       "      <td>187</td>\n",
       "      <td>0</td>\n",
       "      <td>3.5</td>\n",
       "      <td>0</td>\n",
       "      <td>0</td>\n",
       "      <td>2</td>\n",
       "      <td>1</td>\n",
       "    </tr>\n",
       "    <tr>\n",
       "      <th>2</th>\n",
       "      <td>41</td>\n",
       "      <td>0</td>\n",
       "      <td>1</td>\n",
       "      <td>130</td>\n",
       "      <td>204</td>\n",
       "      <td>0</td>\n",
       "      <td>0</td>\n",
       "      <td>172</td>\n",
       "      <td>0</td>\n",
       "      <td>1.4</td>\n",
       "      <td>2</td>\n",
       "      <td>0</td>\n",
       "      <td>2</td>\n",
       "      <td>1</td>\n",
       "    </tr>\n",
       "    <tr>\n",
       "      <th>3</th>\n",
       "      <td>56</td>\n",
       "      <td>1</td>\n",
       "      <td>1</td>\n",
       "      <td>120</td>\n",
       "      <td>236</td>\n",
       "      <td>0</td>\n",
       "      <td>1</td>\n",
       "      <td>178</td>\n",
       "      <td>0</td>\n",
       "      <td>0.8</td>\n",
       "      <td>2</td>\n",
       "      <td>0</td>\n",
       "      <td>2</td>\n",
       "      <td>1</td>\n",
       "    </tr>\n",
       "    <tr>\n",
       "      <th>4</th>\n",
       "      <td>57</td>\n",
       "      <td>0</td>\n",
       "      <td>0</td>\n",
       "      <td>120</td>\n",
       "      <td>354</td>\n",
       "      <td>0</td>\n",
       "      <td>1</td>\n",
       "      <td>163</td>\n",
       "      <td>1</td>\n",
       "      <td>0.6</td>\n",
       "      <td>2</td>\n",
       "      <td>0</td>\n",
       "      <td>2</td>\n",
       "      <td>1</td>\n",
       "    </tr>\n",
       "  </tbody>\n",
       "</table>\n",
       "</div>"
      ],
      "text/plain": [
       "   age  sex  cp  trestbps  chol  fbs  restecg  thalach  exang  oldpeak  slope  \\\n",
       "0   63    1   3       145   233    1        0      150      0      2.3      0   \n",
       "1   37    1   2       130   250    0        1      187      0      3.5      0   \n",
       "2   41    0   1       130   204    0        0      172      0      1.4      2   \n",
       "3   56    1   1       120   236    0        1      178      0      0.8      2   \n",
       "4   57    0   0       120   354    0        1      163      1      0.6      2   \n",
       "\n",
       "   ca  thal  target  \n",
       "0   0     1       1  \n",
       "1   0     2       1  \n",
       "2   0     2       1  \n",
       "3   0     2       1  \n",
       "4   0     2       1  "
      ]
     },
     "execution_count": 2,
     "metadata": {},
     "output_type": "execute_result"
    }
   ],
   "source": [
    "heart_df = pd.read_csv('data/heart_disease.csv')\n",
    "heart_df.head()"
   ]
  },
  {
   "cell_type": "markdown",
   "id": "3db62f5e-a292-4d7a-a49e-348d8c0f551b",
   "metadata": {},
   "source": [
    "#### Inspect for missing values:"
   ]
  },
  {
   "cell_type": "code",
   "execution_count": 3,
   "id": "6733e303-42e3-4da3-b865-2ac4368164f4",
   "metadata": {},
   "outputs": [
    {
     "data": {
      "text/html": [
       "<div>\n",
       "<style scoped>\n",
       "    .dataframe tbody tr th:only-of-type {\n",
       "        vertical-align: middle;\n",
       "    }\n",
       "\n",
       "    .dataframe tbody tr th {\n",
       "        vertical-align: top;\n",
       "    }\n",
       "\n",
       "    .dataframe thead th {\n",
       "        text-align: right;\n",
       "    }\n",
       "</style>\n",
       "<table border=\"1\" class=\"dataframe\">\n",
       "  <thead>\n",
       "    <tr style=\"text-align: right;\">\n",
       "      <th></th>\n",
       "      <th>age</th>\n",
       "      <th>sex</th>\n",
       "      <th>cp</th>\n",
       "      <th>trestbps</th>\n",
       "      <th>chol</th>\n",
       "      <th>fbs</th>\n",
       "      <th>restecg</th>\n",
       "      <th>thalach</th>\n",
       "      <th>exang</th>\n",
       "      <th>oldpeak</th>\n",
       "      <th>slope</th>\n",
       "      <th>ca</th>\n",
       "      <th>thal</th>\n",
       "      <th>target</th>\n",
       "    </tr>\n",
       "  </thead>\n",
       "  <tbody>\n",
       "  </tbody>\n",
       "</table>\n",
       "</div>"
      ],
      "text/plain": [
       "Empty DataFrame\n",
       "Columns: [age, sex, cp, trestbps, chol, fbs, restecg, thalach, exang, oldpeak, slope, ca, thal, target]\n",
       "Index: []"
      ]
     },
     "execution_count": 3,
     "metadata": {},
     "output_type": "execute_result"
    }
   ],
   "source": [
    "heart_df[heart_df.isna().any(axis=1)]"
   ]
  },
  {
   "cell_type": "markdown",
   "id": "745d48a1-0802-44d6-be87-7dae07a85bb1",
   "metadata": {},
   "source": [
    "No missing values!"
   ]
  },
  {
   "cell_type": "markdown",
   "id": "81cf5029-4779-4f74-acf1-ef65210f0023",
   "metadata": {},
   "source": [
    "---\n",
    "### Remove target column and split into train/test datasets:"
   ]
  },
  {
   "cell_type": "code",
   "execution_count": 4,
   "id": "4d82b485-5c98-4b52-b8dc-5e5f8f6fbe14",
   "metadata": {},
   "outputs": [],
   "source": [
    "# set target:\n",
    "y = heart_df['target']\n",
    "x = heart_df.iloc[:,:-1]\n",
    "\n",
    "# split:\n",
    "x_train, x_test, y_train, y_test = train_test_split(x, y, random_state=2)"
   ]
  },
  {
   "cell_type": "markdown",
   "id": "b1b49e55-db82-4297-a59e-1bae30d731b9",
   "metadata": {},
   "source": [
    "---\n",
    "### Train Decision Tree classifier:"
   ]
  },
  {
   "cell_type": "code",
   "execution_count": 5,
   "id": "c59067d4-e22c-4914-89a1-52ffa0dc711d",
   "metadata": {},
   "outputs": [
    {
     "name": "stdout",
     "output_type": "stream",
     "text": [
      "Accuracy: [0.74 0.85 0.77 0.73 0.7 ]\n",
      "Accuracy mean: 0.76\n"
     ]
    }
   ],
   "source": [
    "# set model:\n",
    "model = DecisionTreeClassifier(random_state=2)\n",
    "\n",
    "# define function:\n",
    "def fit_and_evaluate_model(classifier, predictors_df, truth_df, num_splits):\n",
    "    # define model type:\n",
    "    model = classifier\n",
    "    \n",
    "    # fit and evaluate:\n",
    "    scores = cross_val_score(model, predictors_df, truth_df, cv=num_splits)\n",
    "    \n",
    "    # print scores:\n",
    "    print(f'Accuracy: {np.round(scores, 2)}')\n",
    "    print(f'Accuracy mean: {np.round(scores.mean(), 2)}')\n",
    "    \n",
    "# fit and evaluate:\n",
    "fit_and_evaluate_model(classifier=model, predictors_df=x, truth_df=y, num_splits=5)"
   ]
  },
  {
   "cell_type": "markdown",
   "id": "bb32c897-1d21-4e13-a4af-ac3a2a14a95f",
   "metadata": {},
   "source": [
    "---\n",
    "### Define and implement Random Search CV for hyperparameter tuning:"
   ]
  },
  {
   "cell_type": "code",
   "execution_count": 6,
   "id": "ab6cf4e7-30fd-4e1e-a458-52090f14423f",
   "metadata": {},
   "outputs": [],
   "source": [
    "def randomized_search_clf(params,  x_train, x_test, y_train, y_test, runs=20, clf=DecisionTreeClassifier(random_state=2)):\n",
    "    # random search:\n",
    "    rand_clf = RandomizedSearchCV(clf, params, n_iter=runs, cv=5, n_jobs=-1, random_state=2)\n",
    "    \n",
    "    #fit:\n",
    "    rand_clf.fit(x_train, y_train)\n",
    "    \n",
    "    # get best model:\n",
    "    best_model = rand_clf.best_estimator_\n",
    "    \n",
    "    # best score:\n",
    "    best_score = rand_clf.best_score_\n",
    "    print(f'Training score: {best_score}')\n",
    "    \n",
    "    # predictions\n",
    "    preds = best_model.predict(x_test)\n",
    "    \n",
    "    # get accuracy:\n",
    "    accuracy = accuracy_score(y_test, preds)\n",
    "    print(f'Test score: {accuracy}')\n",
    "    \n",
    "    return best_model    "
   ]
  },
  {
   "cell_type": "markdown",
   "id": "b9b9f919-9689-4c04-9fb8-57b053e5a268",
   "metadata": {},
   "source": [
    "#### Define search params dictionary:"
   ]
  },
  {
   "cell_type": "code",
   "execution_count": 7,
   "id": "063d5bfc-cac4-4091-b6a2-59ad6dc8baab",
   "metadata": {},
   "outputs": [],
   "source": [
    "search_params = {'criterion':['entropy', 'gini'],\n",
    "                 'splitter':['random', 'best'],\n",
    "                  'min_weight_fraction_leaf':[0.0, 0.0025, 0.005, 0.0075, 0.01],\n",
    "                  'min_samples_split':[2, 3, 4, 5, 6, 8, 10],\n",
    "                  'min_samples_leaf':[1, 0.01, 0.02, 0.03, 0.04],\n",
    "                  'min_impurity_decrease':[0.0, 0.0005, 0.005, 0.05, 0.10, 0.15, 0.2],\n",
    "                  'max_leaf_nodes':[10, 15, 20, 25, 30, 35, 40, 45, 50, None],\n",
    "                  'max_features':['auto', 0.95, 0.90, 0.85, 0.80, 0.75, 0.70],\n",
    "                  'max_depth':[None, 2,4,6,8],\n",
    "                  'min_weight_fraction_leaf':[0.0, 0.0025, 0.005, 0.0075, 0.01, 0.05]\n",
    "                 }"
   ]
  },
  {
   "cell_type": "markdown",
   "id": "a7a0f844-508f-4c54-9d92-40312173ee10",
   "metadata": {},
   "source": [
    "#### Call search function:"
   ]
  },
  {
   "cell_type": "code",
   "execution_count": 8,
   "id": "6f1bee30-81d6-4bc9-aa0c-992ec488cfde",
   "metadata": {},
   "outputs": [
    {
     "name": "stdout",
     "output_type": "stream",
     "text": [
      "Training score: 0.7977777777777777\n",
      "Test score: 0.8552631578947368\n"
     ]
    },
    {
     "data": {
      "text/plain": [
       "DecisionTreeClassifier(criterion='entropy', max_depth=8, max_features=0.8,\n",
       "                       max_leaf_nodes=45, min_samples_leaf=0.04,\n",
       "                       min_samples_split=10, min_weight_fraction_leaf=0.05,\n",
       "                       random_state=2)"
      ]
     },
     "execution_count": 8,
     "metadata": {},
     "output_type": "execute_result"
    }
   ],
   "source": [
    "# first run:\n",
    "randomized_search_clf(search_params,  x_train, x_test, y_train, y_test, runs=20, clf=DecisionTreeClassifier(random_state=2))"
   ]
  },
  {
   "cell_type": "code",
   "execution_count": 9,
   "id": "bcbbb988-4b90-4488-91bb-f112d0911d64",
   "metadata": {},
   "outputs": [],
   "source": [
    "# second run\n",
    "search_params2 = {'max_depth':[None, 6, 7],\n",
    "                    'max_features':['auto', 0.78],\n",
    "                    'max_leaf_nodes':[45, None],\n",
    "                    'min_samples_leaf':[1, 0.035, 0.04, 0.045, 0.05],\n",
    "                    'min_samples_split':[2, 9, 10],\n",
    "                    'min_weight_fraction_leaf': [0.0, 0.05, 0.06, 0.07],\n",
    "                    }"
   ]
  },
  {
   "cell_type": "code",
   "execution_count": 10,
   "id": "d225678f-6d78-42bd-bc37-141ba4104416",
   "metadata": {},
   "outputs": [
    {
     "name": "stdout",
     "output_type": "stream",
     "text": [
      "Training score: 0.8022222222222222\n",
      "Test score: 0.868421052631579\n"
     ]
    },
    {
     "data": {
      "text/plain": [
       "DecisionTreeClassifier(max_depth=7, max_features=0.78, max_leaf_nodes=45,\n",
       "                       min_samples_leaf=0.045, min_samples_split=9,\n",
       "                       min_weight_fraction_leaf=0.06, random_state=2)"
      ]
     },
     "execution_count": 10,
     "metadata": {},
     "output_type": "execute_result"
    }
   ],
   "source": [
    "randomized_search_clf(search_params2,  x_train, x_test, y_train, y_test, runs=100, clf=DecisionTreeClassifier(random_state=2))"
   ]
  },
  {
   "cell_type": "markdown",
   "id": "e0cffcd3-d282-453a-b4f4-9b03f3fb7c74",
   "metadata": {},
   "source": [
    "**Note: ** as we see above, the second run with the new parameters performs better than the 1st run, so we'll choose this model and run it in our crossvalidation function."
   ]
  },
  {
   "cell_type": "markdown",
   "id": "5574e06a-52c6-4f66-913b-0c4d7a7f1e09",
   "metadata": {},
   "source": [
    "---\n",
    "### Run the champion model on the CV function:"
   ]
  },
  {
   "cell_type": "code",
   "execution_count": 11,
   "id": "dd5a6edd-97a2-4616-89d4-43460c1937bf",
   "metadata": {},
   "outputs": [
    {
     "name": "stdout",
     "output_type": "stream",
     "text": [
      "Accuracy: [0.82 0.9  0.8  0.8  0.78]\n",
      "Accuracy mean: 0.82\n"
     ]
    }
   ],
   "source": [
    "# define new model:\n",
    "champ = DecisionTreeClassifier(max_depth=7, max_features=0.78, max_leaf_nodes=45,\n",
    "                       min_samples_leaf=0.045, min_samples_split=9,\n",
    "                       min_weight_fraction_leaf=0.06, random_state=2)\n",
    "\n",
    "# fit and evaluate:\n",
    "fit_and_evaluate_model(classifier=champ, predictors_df=x, truth_df=y, num_splits=5)"
   ]
  },
  {
   "cell_type": "markdown",
   "id": "cb60573a-1c33-4248-8da0-398727c97b17",
   "metadata": {},
   "source": [
    "---\n",
    "### Fit the champion model on the entire set and get feature importances:"
   ]
  },
  {
   "cell_type": "code",
   "execution_count": 12,
   "id": "ae0b0c9c-58eb-46fb-b2fb-fc860f588daa",
   "metadata": {},
   "outputs": [
    {
     "data": {
      "text/plain": [
       "DecisionTreeClassifier(max_depth=7, max_features=0.78, max_leaf_nodes=45,\n",
       "                       min_samples_leaf=0.045, min_samples_split=9,\n",
       "                       min_weight_fraction_leaf=0.06, random_state=2)"
      ]
     },
     "execution_count": 12,
     "metadata": {},
     "output_type": "execute_result"
    }
   ],
   "source": [
    "# fit:\n",
    "champ.fit(x, y)"
   ]
  },
  {
   "cell_type": "code",
   "execution_count": 13,
   "id": "df76a536-9cb2-4dd0-acdf-1030d61fc82b",
   "metadata": {},
   "outputs": [
    {
     "data": {
      "text/plain": [
       "array([0.04826754, 0.04081653, 0.48409586, 0.00568635, 0.        ,\n",
       "       0.        , 0.        , 0.00859483, 0.        , 0.02690379,\n",
       "       0.        , 0.18069065, 0.20494446])"
      ]
     },
     "execution_count": 13,
     "metadata": {},
     "output_type": "execute_result"
    }
   ],
   "source": [
    "# get feature importances:\n",
    "champ.feature_importances_"
   ]
  },
  {
   "cell_type": "code",
   "execution_count": 14,
   "id": "94ad90c3-30e2-4566-9805-8d71a5c1f523",
   "metadata": {},
   "outputs": [],
   "source": [
    "# zip the importances to the feature names:\n",
    "feature_dict = dict(zip(x.columns, champ.feature_importances_))"
   ]
  },
  {
   "cell_type": "code",
   "execution_count": 15,
   "id": "9e43626b-ad69-4fb6-bb47-a34235d453ee",
   "metadata": {},
   "outputs": [
    {
     "data": {
      "text/plain": [
       "[('cp', 0.4840958610240171),\n",
       " ('thal', 0.20494445570568706),\n",
       " ('ca', 0.18069065321397942)]"
      ]
     },
     "execution_count": 15,
     "metadata": {},
     "output_type": "execute_result"
    }
   ],
   "source": [
    "# import operator\n",
    "import operator\n",
    "\n",
    "# sort dict by values (as list of tuples)\n",
    "sorted(feature_dict.items(), key=operator.itemgetter(1), reverse=True)[0:3]"
   ]
  },
  {
   "cell_type": "markdown",
   "id": "13ce2d3a-2cb7-4881-b51f-dc2ea93122b5",
   "metadata": {},
   "source": [
    "**Note:** the numbers above account for the percent of variance, so 'cp' accounts for 48% of the observed variance"
   ]
  },
  {
   "cell_type": "markdown",
   "id": "678df0aa-a5c2-4fe4-a956-3300c6f62482",
   "metadata": {},
   "source": [
    "&nbsp;"
   ]
  },
  {
   "cell_type": "markdown",
   "id": "c5fad376-214f-4004-8cf8-f33dd055d9c1",
   "metadata": {},
   "source": [
    "---\n",
    "### Auto ML with TPOT:"
   ]
  },
  {
   "cell_type": "code",
   "execution_count": 16,
   "id": "7ea60748-a311-4be8-9f4d-0ab8fea08a82",
   "metadata": {},
   "outputs": [
    {
     "data": {
      "application/vnd.jupyter.widget-view+json": {
       "model_id": "",
       "version_major": 2,
       "version_minor": 0
      },
      "text/plain": [
       "Optimization Progress:   0%|          | 0/100 [00:00<?, ?pipeline/s]"
      ]
     },
     "metadata": {},
     "output_type": "display_data"
    },
    {
     "name": "stdout",
     "output_type": "stream",
     "text": [
      "\n",
      "Generation 1 - Current best internal CV score: 0.8106280193236716\n",
      "\n",
      "Generation 2 - Current best internal CV score: 0.8236714975845411\n",
      "\n",
      "Generation 3 - Current best internal CV score: 0.8236714975845411\n",
      "\n",
      "Generation 4 - Current best internal CV score: 0.8236714975845411\n",
      "\n",
      "Generation 5 - Current best internal CV score: 0.8236714975845411\n",
      "\n",
      "Generation 6 - Current best internal CV score: 0.8236714975845411\n",
      "\n",
      "Generation 7 - Current best internal CV score: 0.8236714975845411\n",
      "\n",
      "Generation 8 - Current best internal CV score: 0.8285024154589372\n",
      "\n",
      "Generation 9 - Current best internal CV score: 0.8285024154589372\n",
      "\n",
      "Generation 10 - Current best internal CV score: 0.8285024154589372\n",
      "\n",
      "Generation 11 - Current best internal CV score: 0.8285024154589372\n",
      "\n",
      "Generation 12 - Current best internal CV score: 0.8285024154589372\n",
      "\n",
      "Generation 13 - Current best internal CV score: 0.8285024154589372\n",
      "\n",
      "Generation 14 - Current best internal CV score: 0.8285024154589372\n",
      "\n",
      "Generation 15 - Current best internal CV score: 0.8285024154589372\n",
      "\n",
      "Generation 16 - Current best internal CV score: 0.8285024154589372\n",
      "\n",
      "Generation 17 - Current best internal CV score: 0.8371980676328503\n",
      "\n",
      "Generation 18 - Current best internal CV score: 0.8371980676328503\n",
      "\n",
      "Generation 19 - Current best internal CV score: 0.8372946859903381\n",
      "\n",
      "Generation 20 - Current best internal CV score: 0.8372946859903381\n",
      "\n",
      "Generation 21 - Current best internal CV score: 0.8372946859903381\n",
      "\n",
      "Generation 22 - Current best internal CV score: 0.8416425120772948\n",
      "\n",
      "Generation 23 - Current best internal CV score: 0.8416425120772948\n",
      "\n",
      "Generation 24 - Current best internal CV score: 0.8416425120772948\n",
      "\n",
      "Generation 25 - Current best internal CV score: 0.8416425120772948\n",
      "\n",
      "Generation 26 - Current best internal CV score: 0.8416425120772948\n",
      "\n",
      "Generation 27 - Current best internal CV score: 0.8416425120772948\n",
      "\n",
      "Generation 28 - Current best internal CV score: 0.8416425120772948\n",
      "\n",
      "Generation 29 - Current best internal CV score: 0.8416425120772948\n",
      "\n",
      "Generation 30 - Current best internal CV score: 0.8416425120772948\n",
      "\n",
      "Generation 31 - Current best internal CV score: 0.8416425120772948\n",
      "\n",
      "Generation 32 - Current best internal CV score: 0.8416425120772948\n",
      "\n",
      "Generation 33 - Current best internal CV score: 0.8416425120772948\n",
      "\n",
      "Generation 34 - Current best internal CV score: 0.8416425120772948\n",
      "\n",
      "Generation 35 - Current best internal CV score: 0.8417391304347825\n",
      "\n",
      "Generation 36 - Current best internal CV score: 0.8506280193236716\n",
      "\n",
      "Generation 37 - Current best internal CV score: 0.8506280193236716\n",
      "\n",
      "Generation 38 - Current best internal CV score: 0.8506280193236716\n",
      "\n",
      "Generation 39 - Current best internal CV score: 0.8506280193236716\n",
      "\n",
      "Generation 40 - Current best internal CV score: 0.8506280193236716\n",
      "\n",
      "Generation 41 - Current best internal CV score: 0.8506280193236716\n",
      "\n",
      "Generation 42 - Current best internal CV score: 0.8506280193236716\n",
      "\n",
      "Generation 43 - Current best internal CV score: 0.8506280193236716\n",
      "\n",
      "Generation 44 - Current best internal CV score: 0.8506280193236716\n",
      "\n",
      "Generation 45 - Current best internal CV score: 0.8506280193236716\n",
      "\n",
      "Generation 46 - Current best internal CV score: 0.8506280193236716\n",
      "\n",
      "Generation 47 - Current best internal CV score: 0.8506280193236716\n",
      "\n",
      "Generation 48 - Current best internal CV score: 0.8506280193236716\n",
      "\n",
      "Generation 49 - Current best internal CV score: 0.8506280193236716\n",
      "\n",
      "Generation 50 - Current best internal CV score: 0.8506280193236716\n",
      "\n",
      "Generation 51 - Current best internal CV score: 0.8506280193236716\n",
      "\n",
      "Generation 52 - Current best internal CV score: 0.8506280193236716\n",
      "\n",
      "Generation 53 - Current best internal CV score: 0.8506280193236716\n",
      "\n",
      "Generation 54 - Current best internal CV score: 0.8506280193236716\n",
      "\n",
      "Generation 55 - Current best internal CV score: 0.8506280193236716\n",
      "\n",
      "Generation 56 - Current best internal CV score: 0.8506280193236716\n",
      "\n",
      "Generation 57 - Current best internal CV score: 0.8506280193236716\n",
      "\n",
      "Generation 58 - Current best internal CV score: 0.8506280193236716\n",
      "\n",
      "Generation 59 - Current best internal CV score: 0.8506280193236716\n",
      "\n",
      "Generation 60 - Current best internal CV score: 0.8506280193236716\n",
      "\n",
      "Generation 61 - Current best internal CV score: 0.8506280193236716\n",
      "\n",
      "Generation 62 - Current best internal CV score: 0.8506280193236716\n",
      "\n",
      "Generation 63 - Current best internal CV score: 0.8506280193236716\n",
      "\n",
      "Generation 64 - Current best internal CV score: 0.8506280193236716\n",
      "\n",
      "Generation 65 - Current best internal CV score: 0.8506280193236716\n",
      "\n",
      "Generation 66 - Current best internal CV score: 0.8506280193236716\n",
      "\n",
      "Generation 67 - Current best internal CV score: 0.8506280193236716\n",
      "\n",
      "Generation 68 - Current best internal CV score: 0.8506280193236716\n",
      "\n",
      "Generation 69 - Current best internal CV score: 0.8506280193236716\n",
      "\n",
      "Generation 70 - Current best internal CV score: 0.8506280193236716\n",
      "\n",
      "Generation 71 - Current best internal CV score: 0.8506280193236716\n",
      "\n",
      "Generation 72 - Current best internal CV score: 0.8506280193236716\n",
      "\n",
      "Generation 73 - Current best internal CV score: 0.8506280193236716\n",
      "\n",
      "Generation 74 - Current best internal CV score: 0.8506280193236716\n",
      "\n",
      "Generation 75 - Current best internal CV score: 0.8506280193236716\n",
      "\n",
      "Generation 76 - Current best internal CV score: 0.8506280193236716\n",
      "\n",
      "Generation 77 - Current best internal CV score: 0.8506280193236716\n",
      "\n",
      "Generation 78 - Current best internal CV score: 0.8506280193236716\n",
      "\n",
      "Generation 79 - Current best internal CV score: 0.8506280193236716\n",
      "\n",
      "Generation 80 - Current best internal CV score: 0.8506280193236716\n",
      "\n",
      "Generation 81 - Current best internal CV score: 0.8506280193236716\n",
      "\n",
      "Generation 82 - Current best internal CV score: 0.8506280193236716\n",
      "\n",
      "Generation 83 - Current best internal CV score: 0.8506280193236716\n",
      "\n",
      "Generation 84 - Current best internal CV score: 0.8506280193236716\n",
      "\n",
      "Generation 85 - Current best internal CV score: 0.8506280193236716\n",
      "\n",
      "Generation 86 - Current best internal CV score: 0.8506280193236716\n",
      "\n",
      "Generation 87 - Current best internal CV score: 0.8506280193236716\n",
      "\n",
      "Generation 88 - Current best internal CV score: 0.8506280193236716\n",
      "\n",
      "Generation 89 - Current best internal CV score: 0.8506280193236716\n",
      "\n",
      "Generation 90 - Current best internal CV score: 0.8506280193236716\n",
      "\n",
      "Generation 91 - Current best internal CV score: 0.8506280193236716\n",
      "\n",
      "Generation 92 - Current best internal CV score: 0.8506280193236716\n",
      "\n",
      "Generation 93 - Current best internal CV score: 0.8506280193236716\n",
      "\n",
      "Generation 94 - Current best internal CV score: 0.8506280193236716\n",
      "\n",
      "Generation 95 - Current best internal CV score: 0.8506280193236716\n",
      "\n",
      "Generation 96 - Current best internal CV score: 0.8506280193236716\n",
      "\n",
      "Generation 97 - Current best internal CV score: 0.8506280193236716\n",
      "\n",
      "Generation 98 - Current best internal CV score: 0.8506280193236716\n",
      "\n",
      "Generation 99 - Current best internal CV score: 0.8594202898550727\n",
      "\n",
      "Generation 100 - Current best internal CV score: 0.8594202898550727\n",
      "\n",
      "Best pipeline: GradientBoostingClassifier(SelectFromModel(Normalizer(MaxAbsScaler(ExtraTreesClassifier(Normalizer(input_matrix, norm=l2), bootstrap=True, criterion=entropy, max_features=0.35000000000000003, min_samples_leaf=19, min_samples_split=13, n_estimators=100)), norm=l2), criterion=entropy, max_features=0.2, n_estimators=100, threshold=0.05), learning_rate=0.01, max_depth=6, max_features=0.45, min_samples_leaf=12, min_samples_split=14, n_estimators=100, subsample=0.9500000000000001)\n"
     ]
    },
    {
     "data": {
      "text/plain": [
       "TPOTClassifier(max_time_mins=360, random_state=42, scoring='accuracy',\n",
       "               verbosity=2)"
      ]
     },
     "execution_count": 16,
     "metadata": {},
     "output_type": "execute_result"
    }
   ],
   "source": [
    "pipeline_optimizer = TPOTClassifier(\n",
    "    scoring='accuracy',\n",
    "    max_time_mins=360,\n",
    "    random_state=42,\n",
    "    verbosity=2\n",
    ")\n",
    "\n",
    "pipeline_optimizer.fit(x_train, y_train)"
   ]
  },
  {
   "cell_type": "markdown",
   "id": "f8830472-5556-404e-905c-6f7c0f083ca4",
   "metadata": {},
   "source": [
    "&nbsp;"
   ]
  },
  {
   "cell_type": "markdown",
   "id": "eab99afc-904d-429f-95eb-ccd352d75b33",
   "metadata": {},
   "source": [
    "#### Obtain predictions and score:"
   ]
  },
  {
   "cell_type": "code",
   "execution_count": 17,
   "id": "80cc3237-7b02-456b-949a-86b168867afc",
   "metadata": {},
   "outputs": [
    {
     "name": "stdout",
     "output_type": "stream",
     "text": [
      "0.8421052631578947\n"
     ]
    }
   ],
   "source": [
    "tpot_preds = pipeline_optimizer.predict(x_test)\n",
    "accuracy_score(y_test, tpot_preds)\n",
    "\n",
    "from sklearn.metrics import accuracy_score\n",
    "\n",
    "print(accuracy_score(y_test, tpot_preds))"
   ]
  },
  {
   "cell_type": "code",
   "execution_count": null,
   "id": "ba8ab475-8769-48c2-a44c-b299b8d02b91",
   "metadata": {},
   "outputs": [],
   "source": []
  }
 ],
 "metadata": {
  "kernelspec": {
   "display_name": "Python 3 (ipykernel)",
   "language": "python",
   "name": "python3"
  },
  "language_info": {
   "codemirror_mode": {
    "name": "ipython",
    "version": 3
   },
   "file_extension": ".py",
   "mimetype": "text/x-python",
   "name": "python",
   "nbconvert_exporter": "python",
   "pygments_lexer": "ipython3",
   "version": "3.7.9"
  }
 },
 "nbformat": 4,
 "nbformat_minor": 5
}
